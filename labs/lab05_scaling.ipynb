{
  "nbformat": 4,
  "nbformat_minor": 0,
  "metadata": {
    "colab": {
      "provenance": [],
      "include_colab_link": true
    },
    "kernelspec": {
      "name": "python3",
      "display_name": "Python 3"
    },
    "language_info": {
      "name": "python"
    }
  },
  "cells": [
    {
      "cell_type": "markdown",
      "metadata": {
        "id": "view-in-github",
        "colab_type": "text"
      },
      "source": [
        "<a href=\"https://colab.research.google.com/github/ilnegozio/labs/blob/main/labs/lab05_scaling.ipynb\" target=\"_parent\"><img src=\"https://colab.research.google.com/assets/colab-badge.svg\" alt=\"Open In Colab\"/></a>"
      ]
    },
    {
      "cell_type": "markdown",
      "source": [
        "COMP 215 - LAB 5\n",
        "----------------\n",
        "#### Name(s): Denis\n",
        "#### Date: February 5th\n",
        "\n",
        "By the end of this lab you should be able to:\n",
        "  * apply both a direct (ie. brute force) and heuristic algorithm to a problem\n",
        "  * use the networkx module to visualize graphs\n",
        "  * measure algorithm scaling\n",
        "\n",
        "\n",
        "During this lab, you will be introduced to the following:\n",
        "  * seeding the random module\n",
        "\n"
      ],
      "metadata": {
        "id": "maj2ZJihN_mq"
      }
    },
    {
      "cell_type": "markdown",
      "source": [
        "## The Traveling Salesperson Problem\n",
        "\n",
        "This lab is based on the famous Traveling Salesperson Problem (TSP) outlined in Section 3.3.2 of 'On Complexity'.  Imagine you needed to travel to ten different cities.  What is the sortest possible route you could take to visit every city?  For our version of the problem, you start from a specific city and must end on the same city.\n",
        "\n",
        "In this lab, you will implement a direct (ie. brute force) and a heuristic solution to the problem."
      ],
      "metadata": {
        "id": "bXq2viKmFY-h"
      }
    },
    {
      "cell_type": "code",
      "source": [
        "# start with some imports\n",
        "import random, math, time, itertools\n",
        "import networkx as nx\n",
        "import matplotlib.pyplot as plt\n",
        "%matplotlib inline\n",
        "from pprint import pprint"
      ],
      "metadata": {
        "id": "XAr1Vf5HiC6N"
      },
      "execution_count": null,
      "outputs": []
    },
    {
      "cell_type": "markdown",
      "source": [
        "## Set up the map\n",
        "\n",
        "For this implementation of the problem we will randomly place N cities on a 100 by 100 grid.  Cities will be labelled using a single character; 'A', 'B', 'C', etc.  City locations will be denoted by a 2-tuple, `(x,y)`, giving their position on the grid. In order to create reproducable maps, we will use [random.seed()](https://docs.python.org/3/library/random.html#random.seed) to initialize the random module.  "
      ],
      "metadata": {
        "id": "P69qc4NLXcHA"
      }
    },
    {
      "cell_type": "code",
      "source": [
        "def setup_map(N, seed=1):\n",
        "  ''' Returns a map of N cities with random locations on a 100 by 100 grid '''\n",
        "  random.seed(seed)\n",
        "  city_locations = [(random.randint(0, 100), random.randint(0, 100)) for i in range(N)]\n",
        "  city_names = [chr(65 + i) for i in range(N)]\n",
        "  city_map = dict(zip(city_names, city_locations))\n",
        "  return city_map\n",
        "\n",
        "def graph_map(city_map):\n",
        "  ''' graph the map of cities using networkx'''\n",
        "  G = nx.Graph()\n",
        "  G.add_nodes_from(city_map)\n",
        "  nx.draw(G, city_map, with_labels=True)\n",
        "\n",
        "def distance(city1, city2, city_map):\n",
        "  ''' Returns the distance between two cities on a map'''\n",
        "  x1, y1 = city_map[city1]\n",
        "  x2, y2 = city_map[city2]\n",
        "  return round(math.sqrt((x2 - x1)**2 + (y2 - y1)**2),1)\n",
        "\n",
        "def calculate_distances(city_map):\n",
        "  ''' Returns a dictionary with the distances between all pairs of cities in a map '''\n",
        "  distances = {}\n",
        "  for city1 in city_map:\n",
        "      for city2 in city_map:\n",
        "          if city1 != city2:\n",
        "              # this will have duplicate distances (A,B) and (B,A)\n",
        "              # these duplicates make the algorithm implememntation simpler\n",
        "              distances[(city1, city2)] = distance(city1, city2, city_map)\n",
        "  return distances\n"
      ],
      "metadata": {
        "id": "lHqZss26iNtY"
      },
      "execution_count": null,
      "outputs": []
    },
    {
      "cell_type": "code",
      "source": [
        "# test our setup functions\n",
        "city_map = setup_map(10)\n",
        "print(f'City Map: {city_map}')\n",
        "distances = calculate_distances(city_map)\n",
        "print(f'Distances between cities: {distances}')\n",
        "graph_map(city_map)"
      ],
      "metadata": {
        "id": "d0ZFBtOPpU-P"
      },
      "execution_count": null,
      "outputs": []
    },
    {
      "cell_type": "markdown",
      "source": [
        "### Exercise 1: The Brute Force Solution\n",
        "\n",
        "Implement a brute force solution to the traveling salesman problem using the city map and distance dictionary given above.  The algorithm for the brute force solution looks something like this:\n",
        " 1. Loop over every possible route that starts and ends on city A.  For a three city example, this would be ABCA, ACBA.  \n",
        " 2. Calculate the total distance of each possible route.  \n",
        " 3. Find the route with the minimum total distance.\n",
        "\n",
        "Before you start coding, think about what functions and/or class you might want to simplify your implementation of the algorithm.  Write a small test for your algorithm."
      ],
      "metadata": {
        "id": "L_clDiVgOXjT"
      }
    },
    {
      "cell_type": "code",
      "source": [
        "# Ex. 1 your solution here\n",
        "\n",
        "def permutation(elements):\n",
        "  if len(elements) == 0:\n",
        "    return [[]]\n",
        "  result = []\n",
        "  for i in range(len(elements)):\n",
        "    rest = elements[:i] + elements[i+1:] # remove one element\n",
        "    for perm in permutation(rest):\n",
        "      result.append([elements[i]] + perm)\n",
        "  return result\n",
        "\n",
        "def total_distance(route, distances):\n",
        "  dist = 0\n",
        "  for i in range(len(route) - 1):\n",
        "    dist += distances.get((route[i], route[i + 1]), 99999)\n",
        "  return dist\n",
        "\n",
        "def brute_force(city_map, distances):\n",
        "  min_distance = float('inf') # no route assumption\n",
        "  best_route = None\n",
        "  for perm in permutation(list(city_map.keys())[1:]):\n",
        "    route = ('A') + tuple(perm) + ('A')\n",
        "    dist = total_distance(route, distances)\n",
        "    if dist < min_distance:\n",
        "      min_distance = dist\n",
        "      best_route = route # update best option\n",
        "\n",
        "  return best_route, min_distance\n"
      ],
      "metadata": {
        "id": "nLmzZgjwECtJ"
      },
      "execution_count": null,
      "outputs": []
    },
    {
      "cell_type": "markdown",
      "source": [
        "### Exercise 2: Nearest Neighbour\n",
        "\n",
        "Implement a nearest neighbour solution to the traveling salesman problem using the city map and distance dictionary given above.  The algorithm for the nearest neighbour solution looks something like this:\n",
        " 1. Start from the starting city.  \n",
        " 2. Go to the nearest city that has not been visited.  \n",
        " 3. Repeat steps 1 and 2 until all cities have been visited.\n",
        "\n",
        "Before you start coding, think about what functions and/or class you might want to simplify your implementation of the algorithm.  Write a small test for your algorithm."
      ],
      "metadata": {
        "id": "JhIjwjq-Oa4F"
      }
    },
    {
      "cell_type": "code",
      "source": [
        "# Ex.2 your code here\n",
        "\n",
        "def nearest_neighbour(city_map, distances):\n",
        "  cities = list(city_map.keys())\n",
        "  unvisited = set(cities)\n",
        "  unvisited.remove('A')\n",
        "  route = ['A']\n",
        "  total_dist = 0\n",
        "\n",
        "  current_city = 'A'\n",
        "  while unvisited:\n",
        "    nearest_city = None\n",
        "    nearest_dist = float('inf')\n",
        "    for city in unvisited:\n",
        "      if distances.get((current_city, city), 99999) < nearest_dist:\n",
        "        nearest_dist = distances[(current_city, city)]\n",
        "        nearest_city = city\n",
        "    if nearest_city:\n",
        "      total_dist += nearest_dist\n",
        "      route.append(nearest_city) # append the closest\n",
        "      unvisited.remove(nearest_city)\n",
        "      current_city = nearest_city\n",
        "\n",
        "  route.append('A') # return back\n",
        "  total_dist += distances.get((current_city, 'A'), 99999)\n",
        "\n",
        "  return route, total_dist"
      ],
      "metadata": {
        "id": "jrsQQyMLEFZ2"
      },
      "execution_count": null,
      "outputs": []
    },
    {
      "cell_type": "markdown",
      "source": [
        "### Exercise 3: Graph the Routes\n",
        "\n",
        "Use the networkx module to create directed graphs of the routes (brute force and nearest neighbour).  Include the distances between the cities on the edges.  Run several different map setups with a different sizes (ie. number of cities).  Do the brute force (ie. direct) and nearest neighbour (ie. heuristic) algorithms always give the same solution?  Do you notice anything about the brute force solutions that suggests an alternative heuristic algorithm?\n"
      ],
      "metadata": {
        "id": "RzeiY9dFpBAC"
      }
    },
    {
      "cell_type": "code",
      "source": [
        "# Ex.3 your code here\n",
        "\n",
        "def plot(city_map, route, title):\n",
        "  for i in range(len(route) - 1):\n",
        "    city1, city2 = route[i], route[i + 1]\n",
        "    nx.DiGraph().add_edge(city1, city2, weight=distances.get((city1, city2), 99999))\n",
        "\n",
        "  plt.figure(figsize=(8, 6))\n",
        "  nx.draw(nx.DiGraph(), city_map, with_labels=True, node_color='red', edge_color='black', node_size=500, font_size=10)\n",
        "  labels = nx.get_edge_attributes(nx.DiGraph(), 'weight')\n",
        "  nx.draw_networkx_edge_labels(nx.DiGraph(), city_map, edge_labels=labels)\n",
        "  plt.title(title)\n",
        "  plt.show()"
      ],
      "metadata": {
        "id": "U9NFv5PkEKO4"
      },
      "execution_count": null,
      "outputs": []
    },
    {
      "cell_type": "markdown",
      "source": [
        "### Exercise 4: Algorithm Scaling\n",
        "\n",
        "Use the `time` module to measure the running time of the two algorithms.  Note that the `time.time()` function returns the current time, so calling it before and after the algorithm has run can give you the time it takes for the algorithm to execute.  Taking the average over several trials will make the measurement more precise.  Demonstrate the scaling nature of the algorithms by plotting their execution time as a function of N, up to about N = 10.  "
      ],
      "metadata": {
        "id": "HD2PiYXQV48y"
      }
    },
    {
      "cell_type": "code",
      "source": [
        "# Ex 4: your code here\n",
        "\n",
        "brute_list = []\n",
        "neighbour_list = []\n",
        "\n",
        "for i in range(10):\n",
        "  t1 = time.time()\n",
        "  plot(city_map, best_route, \"brute force\")\n",
        "  t2 = time.time()\n",
        "  t3 = t2 - t1\n",
        "  brute_list.append(t3)\n",
        "  print(\"brute force execution time:\", t3)\n",
        "  t1 = time.time()\n",
        "  plot(city_map, nn_route, \"nearest neighbour\")\n",
        "  t2 = time.time()\n",
        "  t3 = t2 - t1\n",
        "  neighbour_list.append(t3)\n",
        "  print(\"nearest neighbour execution time:\", t3)\n",
        "\n",
        "brute_average = sum(brute_list) / len(brute_list)\n",
        "print(\"brute force average execution time:\", brute_average)\n",
        "neighbour_average = sum(neighbour_list) / len(neighbour_list)\n",
        "print(\"neighbour average execution time:\", neighbour_average)"
      ],
      "metadata": {
        "id": "DBpuwJ5SSNJB"
      },
      "execution_count": null,
      "outputs": []
    }
  ]
}